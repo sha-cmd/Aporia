{
 "cells": [
  {
   "cell_type": "code",
   "execution_count": 10,
   "id": "b1fcafe5",
   "metadata": {},
   "outputs": [],
   "source": [
    "import pandas as pd\n",
    "import numpy as np\n",
    "import matplotlib.pyplot as plt\n",
    "import sys\n",
    "import glob\n",
    "import cv2"
   ]
  },
  {
   "cell_type": "code",
   "execution_count": 5,
   "id": "cda1025b",
   "metadata": {},
   "outputs": [
    {
     "data": {
      "text/plain": [
       "['/home/romain/Documents/BackUp/Special/Projets/Code_IIA/Projet_8/Aporia/notebooks',\n",
       " '/home/romain/anaconda3/lib/python39.zip',\n",
       " '/home/romain/anaconda3/lib/python3.9',\n",
       " '/home/romain/anaconda3/lib/python3.9/lib-dynload',\n",
       " '',\n",
       " '/home/romain/.local/lib/python3.9/site-packages',\n",
       " '/home/romain/anaconda3/lib/python3.9/site-packages',\n",
       " '/home/romain/anaconda3/lib/python3.9/site-packages/tensorflow_docs-0.0.0.dev0-py3.9.egg',\n",
       " '/home/romain/anaconda3/lib/python3.9/site-packages/astor-0.8.1-py3.9.egg',\n",
       " '/home/romain/anaconda3/lib/python3.9/site-packages/locket-0.2.1-py3.9.egg',\n",
       " '/home/romain/anaconda3/lib/python3.9/site-packages/IPython/extensions',\n",
       " '/home/romain/.ipython']"
      ]
     },
     "execution_count": 5,
     "metadata": {},
     "output_type": "execute_result"
    }
   ],
   "source": [
    "sys.path"
   ]
  },
  {
   "cell_type": "code",
   "execution_count": 2,
   "id": "bfc261be",
   "metadata": {},
   "outputs": [],
   "source": [
    "# Installation de OpenCV\n",
    "#!pip install opencv-contrib-python-headless"
   ]
  },
  {
   "cell_type": "code",
   "execution_count": 328,
   "id": "95d6ade6",
   "metadata": {},
   "outputs": [],
   "source": [
    "mask_list = glob.glob('../data/finetuning/gtFine/**/*polygons.json', recursive=True)"
   ]
  },
  {
   "cell_type": "code",
   "execution_count": 32,
   "id": "6e13f8db",
   "metadata": {},
   "outputs": [
    {
     "data": {
      "text/plain": [
       "0     {'label': 'road', 'polygon': [[0, 513], [2047,...\n",
       "1     {'label': 'sidewalk', 'polygon': [[2048, 369],...\n",
       "2     {'label': 'terrain', 'polygon': [[114, 504], [...\n",
       "3     {'label': 'building', 'polygon': [[2, 2], [753...\n",
       "4     {'label': 'pole', 'polygon': [[366, 406], [366...\n",
       "                            ...                        \n",
       "62    {'label': 'bicycle', 'polygon': [[945, 396], [...\n",
       "63    {'label': 'bicycle', 'polygon': [[1239, 412], ...\n",
       "64    {'label': 'rider', 'polygon': [[1280, 383], [1...\n",
       "65    {'label': 'ego vehicle', 'polygon': [[271, 102...\n",
       "66    {'label': 'out of roi', 'polygon': [[0, 0], [2...\n",
       "Name: objects, Length: 67, dtype: object"
      ]
     },
     "execution_count": 32,
     "metadata": {},
     "output_type": "execute_result"
    }
   ],
   "source": [
    "pd.read_json(mask_list[1])['objects'].shape[0]"
   ]
  },
  {
   "cell_type": "code",
   "execution_count": 34,
   "id": "07017b7e",
   "metadata": {},
   "outputs": [],
   "source": [
    "list_label = []\n",
    "for i in range(len(mask_list)):\n",
    "    num_ind = pd.read_json(mask_list[i])['objects'].shape[0]\n",
    "    for j in range(num_ind):\n",
    "        lab = pd.read_json(mask_list[i])['objects'].iloc[j]['label']\n",
    "        if lab not in list_label:\n",
    "            list_label.append(lab)\n",
    "            "
   ]
  },
  {
   "cell_type": "code",
   "execution_count": 35,
   "id": "3dde9210",
   "metadata": {},
   "outputs": [
    {
     "data": {
      "text/plain": [
       "['static',\n",
       " 'sky',\n",
       " 'road',\n",
       " 'sidewalk',\n",
       " 'vegetation',\n",
       " 'building',\n",
       " 'pole',\n",
       " 'traffic light',\n",
       " 'car',\n",
       " 'dynamic',\n",
       " 'person',\n",
       " 'traffic sign',\n",
       " 'trailer',\n",
       " 'license plate',\n",
       " 'rider',\n",
       " 'bicycle',\n",
       " 'ego vehicle',\n",
       " 'out of roi',\n",
       " 'terrain',\n",
       " 'bicyclegroup',\n",
       " 'parking',\n",
       " 'ground',\n",
       " 'caravan',\n",
       " 'wall',\n",
       " 'motorcycle',\n",
       " 'fence',\n",
       " 'bus',\n",
       " 'truck',\n",
       " 'bridge',\n",
       " 'cargroup',\n",
       " 'persongroup',\n",
       " 'polegroup',\n",
       " 'guard rail',\n",
       " 'rectification border',\n",
       " 'train',\n",
       " 'rail track',\n",
       " 'ridergroup',\n",
       " 'tunnel',\n",
       " 'motorcyclegroup',\n",
       " 'truckgroup']"
      ]
     },
     "execution_count": 35,
     "metadata": {},
     "output_type": "execute_result"
    }
   ],
   "source": [
    "list_label"
   ]
  },
  {
   "cell_type": "markdown",
   "id": "d69df11f",
   "metadata": {},
   "source": [
    "```\n",
    "['static',\n",
    " 'sky',\n",
    " 'road',\n",
    " 'sidewalk',\n",
    " 'vegetation',\n",
    " 'building',\n",
    " 'pole',\n",
    " 'traffic light',\n",
    " 'car',\n",
    " 'dynamic',\n",
    " 'person',\n",
    " 'traffic sign',\n",
    " 'trailer',\n",
    " 'license plate',\n",
    " 'rider',\n",
    " 'bicycle',\n",
    " 'ego vehicle',\n",
    " 'out of roi',\n",
    " 'terrain',\n",
    " 'bicyclegroup',\n",
    " 'parking',\n",
    " 'ground',\n",
    " 'caravan',\n",
    " 'wall',\n",
    " 'motorcycle',\n",
    " 'fence',\n",
    " 'bus',\n",
    " 'truck',\n",
    " 'bridge',\n",
    " 'cargroup',\n",
    " 'persongroup',\n",
    " 'polegroup',\n",
    " 'guard rail',\n",
    " 'rectification border',\n",
    " 'train',\n",
    " 'rail track',\n",
    " 'ridergroup',\n",
    " 'tunnel',\n",
    " 'motorcyclegroup',\n",
    " 'truckgroup']\n",
    " ```"
   ]
  },
  {
   "cell_type": "code",
   "execution_count": 36,
   "id": "080bbba9",
   "metadata": {},
   "outputs": [
    {
     "data": {
      "text/plain": [
       "40"
      ]
     },
     "execution_count": 36,
     "metadata": {},
     "output_type": "execute_result"
    }
   ],
   "source": [
    "len(list_label)"
   ]
  },
  {
   "cell_type": "markdown",
   "id": "34f2122e",
   "metadata": {},
   "source": [
    "```\n",
    "40\n",
    "```"
   ]
  },
  {
   "cell_type": "code",
   "execution_count": 323,
   "id": "2cfcd62f",
   "metadata": {},
   "outputs": [],
   "source": [
    "dict_label = {'road': 'flat', 'sidewalk': 'flat', 'parking': 'flat','rail track': 'flat',\n",
    "'person': 'human','rider': 'human',\n",
    "'truck': 'vehicle',  'car': 'vehicle', 'bus': 'vehicle', 'on rails': 'vehicle',\n",
    " 'motorcycle': 'vehicle', 'bicycle': 'vehicle', 'caravan': 'vehicle',\n",
    " 'trailer': 'vehicle',\n",
    "'building': 'construction', 'wall': 'construction', 'fence': 'construction', 'guard rail': 'construction',\n",
    " 'bridge': 'construction', 'tunnel': 'construction',\n",
    "'pole': 'object', 'pole group': 'object', 'traffic sign': 'object',\n",
    " 'traffic light': 'object',\n",
    "'vegetation': 'nature', 'terrain': 'nature',\n",
    "'ground': 'void', 'dynamic': 'void', 'static': 'void',\n",
    "'flat': 'flat', 'human': 'human', 'vehicle': 'vehicle', 'construction': 'construction',\n",
    "'object': 'object', 'nature': 'nature', 'void': 'void', 'sky': 'sky',\n",
    "              \n",
    "'license plate': 'vehicle',\n",
    " 'ego vehicle': 'void',\n",
    " 'out of roi': 'void',\n",
    " 'bicyclegroup': 'vehicle',\n",
    " 'cargroup': 'vehicle',\n",
    " 'persongroup': 'human',\n",
    " 'polegroup': 'object',\n",
    " 'rectification border': 'void',\n",
    " 'train': 'vehicle',\n",
    " 'ridergroup': 'vehicle',\n",
    " 'motorcyclegroup': 'vehicle',\n",
    " 'truckgroup': 'vehicle'\n",
    "}"
   ]
  },
  {
   "cell_type": "code",
   "execution_count": 324,
   "id": "ea8357f3",
   "metadata": {},
   "outputs": [
    {
     "ename": "NameError",
     "evalue": "name 'list_label' is not defined",
     "output_type": "error",
     "traceback": [
      "\u001b[0;31m---------------------------------------------------------------------------\u001b[0m",
      "\u001b[0;31mNameError\u001b[0m                                 Traceback (most recent call last)",
      "\u001b[0;32m/tmp/ipykernel_4121/3942104240.py\u001b[0m in \u001b[0;36m<module>\u001b[0;34m\u001b[0m\n\u001b[0;32m----> 1\u001b[0;31m \u001b[0;34m[\u001b[0m\u001b[0mx\u001b[0m \u001b[0;32mfor\u001b[0m \u001b[0mx\u001b[0m \u001b[0;32min\u001b[0m \u001b[0mlist_label\u001b[0m \u001b[0;32mif\u001b[0m \u001b[0mx\u001b[0m \u001b[0;32mnot\u001b[0m \u001b[0;32min\u001b[0m \u001b[0mlist\u001b[0m\u001b[0;34m(\u001b[0m\u001b[0mset\u001b[0m\u001b[0;34m(\u001b[0m\u001b[0mlist\u001b[0m\u001b[0;34m(\u001b[0m\u001b[0mdict_label\u001b[0m\u001b[0;34m.\u001b[0m\u001b[0mkeys\u001b[0m\u001b[0;34m(\u001b[0m\u001b[0;34m)\u001b[0m\u001b[0;34m)\u001b[0m\u001b[0;34m)\u001b[0m\u001b[0;34m)\u001b[0m\u001b[0;34m]\u001b[0m\u001b[0;34m\u001b[0m\u001b[0;34m\u001b[0m\u001b[0m\n\u001b[0m",
      "\u001b[0;31mNameError\u001b[0m: name 'list_label' is not defined"
     ]
    }
   ],
   "source": [
    "[x for x in list_label if x not in list(set(list(dict_label.keys())))]"
   ]
  },
  {
   "cell_type": "markdown",
   "id": "b73d38b0",
   "metadata": {},
   "source": [
    "```\n",
    "['license plate',\n",
    " 'ego vehicle',\n",
    " 'out of roi',\n",
    " 'bicyclegroup',\n",
    " 'cargroup',\n",
    " 'persongroup',\n",
    " 'polegroup',\n",
    " 'rectification border',\n",
    " 'train',\n",
    " 'ridergroup',\n",
    " 'motorcyclegroup',\n",
    " 'truckgroup']\n",
    "```"
   ]
  },
  {
   "cell_type": "markdown",
   "id": "7ff7103a",
   "metadata": {},
   "source": [
    "Les mots 'on rails' 'pole group' et 'construction' n’existe pas dans notre base de données contrairement aux informations du site web."
   ]
  },
  {
   "cell_type": "code",
   "execution_count": 49,
   "id": "135bd440",
   "metadata": {},
   "outputs": [
    {
     "data": {
      "text/plain": [
       "{'building', 'flat', 'human', 'nature', 'object', 'sky', 'vehicle', 'void'}"
      ]
     },
     "execution_count": 49,
     "metadata": {},
     "output_type": "execute_result"
    }
   ],
   "source": [
    "set(list(dict_label.values()))"
   ]
  },
  {
   "cell_type": "markdown",
   "id": "3980d19b",
   "metadata": {},
   "source": [
    "```\n",
    "{'building', 'flat', 'human', 'nature', 'object', 'sky', 'vehicle', 'void'}\n",
    "```"
   ]
  },
  {
   "cell_type": "code",
   "execution_count": 101,
   "id": "254b0350",
   "metadata": {},
   "outputs": [
    {
     "data": {
      "text/plain": [
       "{'bicycle',\n",
       " 'bicyclegroup',\n",
       " 'bridge',\n",
       " 'building',\n",
       " 'bus',\n",
       " 'car',\n",
       " 'caravan',\n",
       " 'cargroup',\n",
       " 'construction',\n",
       " 'dynamic',\n",
       " 'ego vehicle',\n",
       " 'fence',\n",
       " 'flat',\n",
       " 'ground',\n",
       " 'guard rail',\n",
       " 'human',\n",
       " 'license plate',\n",
       " 'motorcycle',\n",
       " 'motorcyclegroup',\n",
       " 'nature',\n",
       " 'object',\n",
       " 'on rails',\n",
       " 'out of roi',\n",
       " 'parking',\n",
       " 'person',\n",
       " 'persongroup',\n",
       " 'pole',\n",
       " 'pole group',\n",
       " 'polegroup',\n",
       " 'rail track',\n",
       " 'rectification border',\n",
       " 'rider',\n",
       " 'ridergroup',\n",
       " 'road',\n",
       " 'sidewalk',\n",
       " 'sky',\n",
       " 'static',\n",
       " 'terrain',\n",
       " 'traffic light',\n",
       " 'traffic sign',\n",
       " 'trailer',\n",
       " 'train',\n",
       " 'truck',\n",
       " 'truckgroup',\n",
       " 'tunnel',\n",
       " 'vegetation',\n",
       " 'vehicle',\n",
       " 'void',\n",
       " 'wall'}"
      ]
     },
     "execution_count": 101,
     "metadata": {},
     "output_type": "execute_result"
    }
   ],
   "source": [
    "set(list(dict_label.keys()))"
   ]
  },
  {
   "cell_type": "markdown",
   "id": "c34beced",
   "metadata": {},
   "source": [
    "```\n",
    "{'bicycle',\n",
    " 'bridge',\n",
    " 'bus',\n",
    " 'car',\n",
    " 'caravan',\n",
    " 'construction',\n",
    " 'dynamic',\n",
    " 'fence',\n",
    " 'ground',\n",
    " 'guard rail',\n",
    " 'motorcycle',\n",
    " 'on rails',\n",
    " 'parking',\n",
    " 'person',\n",
    " 'pole',\n",
    " 'pole group',\n",
    " 'rail track',\n",
    " 'rider',\n",
    " 'road',\n",
    " 'sidewalk',\n",
    " 'sky',\n",
    " 'static',\n",
    " 'terrain',\n",
    " 'traffic light',\n",
    " 'traffic sign',\n",
    " 'trailer',\n",
    " 'truck',\n",
    " 'tunnel',\n",
    " 'vegetation',\n",
    " 'wall'}\n",
    " ```"
   ]
  },
  {
   "cell_type": "code",
   "execution_count": 93,
   "id": "b905bf33",
   "metadata": {},
   "outputs": [
    {
     "data": {
      "text/plain": [
       "0     {'label': 'road', 'polygon': [[0, 513], [2047,...\n",
       "1     {'label': 'sidewalk', 'polygon': [[2048, 369],...\n",
       "2     {'label': 'terrain', 'polygon': [[114, 504], [...\n",
       "3     {'label': 'building', 'polygon': [[2, 2], [753...\n",
       "4     {'label': 'pole', 'polygon': [[366, 406], [366...\n",
       "                            ...                        \n",
       "62    {'label': 'bicycle', 'polygon': [[945, 396], [...\n",
       "63    {'label': 'bicycle', 'polygon': [[1239, 412], ...\n",
       "64    {'label': 'rider', 'polygon': [[1280, 383], [1...\n",
       "65    {'label': 'ego vehicle', 'polygon': [[271, 102...\n",
       "66    {'label': 'out of roi', 'polygon': [[0, 0], [2...\n",
       "Name: objects, Length: 67, dtype: object"
      ]
     },
     "execution_count": 93,
     "metadata": {},
     "output_type": "execute_result"
    }
   ],
   "source": [
    "pd.read_json(mask_list[1])['objects']#.iloc[1]['label']#.shape[0]"
   ]
  },
  {
   "cell_type": "code",
   "execution_count": 69,
   "id": "d6bd6be3",
   "metadata": {},
   "outputs": [],
   "source": [
    "df.at[0, 'objects']['label'] = dict_label['road']"
   ]
  },
  {
   "cell_type": "code",
   "execution_count": 75,
   "id": "77b8783a",
   "metadata": {},
   "outputs": [
    {
     "data": {
      "text/plain": [
       "'flat'"
      ]
     },
     "execution_count": 75,
     "metadata": {},
     "output_type": "execute_result"
    }
   ],
   "source": [
    "df.at[0, 'objects']['label']"
   ]
  },
  {
   "cell_type": "code",
   "execution_count": 76,
   "id": "ffd25d77",
   "metadata": {},
   "outputs": [
    {
     "data": {
      "text/plain": [
       "'flat'"
      ]
     },
     "execution_count": 76,
     "metadata": {},
     "output_type": "execute_result"
    }
   ],
   "source": [
    "dict_label['flat']"
   ]
  },
  {
   "cell_type": "code",
   "execution_count": 90,
   "id": "eb14fa8b",
   "metadata": {},
   "outputs": [],
   "source": [
    "df.to_json('test.json', orient='columns')"
   ]
  },
  {
   "cell_type": "code",
   "execution_count": 78,
   "id": "c70bf7ac",
   "metadata": {},
   "outputs": [
    {
     "data": {
      "text/plain": [
       "'../data/finetuning/gtFine/val/munster/munster_000077_000019_gtFine_polygons.json'"
      ]
     },
     "execution_count": 78,
     "metadata": {},
     "output_type": "execute_result"
    }
   ],
   "source": [
    "mask_list[1]"
   ]
  },
  {
   "cell_type": "code",
   "execution_count": 91,
   "id": "65a211cd",
   "metadata": {},
   "outputs": [
    {
     "data": {
      "text/html": [
       "<div>\n",
       "<style scoped>\n",
       "    .dataframe tbody tr th:only-of-type {\n",
       "        vertical-align: middle;\n",
       "    }\n",
       "\n",
       "    .dataframe tbody tr th {\n",
       "        vertical-align: top;\n",
       "    }\n",
       "\n",
       "    .dataframe thead th {\n",
       "        text-align: right;\n",
       "    }\n",
       "</style>\n",
       "<table border=\"1\" class=\"dataframe\">\n",
       "  <thead>\n",
       "    <tr style=\"text-align: right;\">\n",
       "      <th></th>\n",
       "      <th>imgHeight</th>\n",
       "      <th>imgWidth</th>\n",
       "      <th>objects</th>\n",
       "    </tr>\n",
       "  </thead>\n",
       "  <tbody>\n",
       "    <tr>\n",
       "      <th>0</th>\n",
       "      <td>1024</td>\n",
       "      <td>2048</td>\n",
       "      <td>{'label': 'flat', 'polygon': [[0, 513], [2047,...</td>\n",
       "    </tr>\n",
       "    <tr>\n",
       "      <th>1</th>\n",
       "      <td>1024</td>\n",
       "      <td>2048</td>\n",
       "      <td>{'label': 'sidewalk', 'polygon': [[2048, 369],...</td>\n",
       "    </tr>\n",
       "    <tr>\n",
       "      <th>2</th>\n",
       "      <td>1024</td>\n",
       "      <td>2048</td>\n",
       "      <td>{'label': 'terrain', 'polygon': [[114, 504], [...</td>\n",
       "    </tr>\n",
       "    <tr>\n",
       "      <th>3</th>\n",
       "      <td>1024</td>\n",
       "      <td>2048</td>\n",
       "      <td>{'label': 'building', 'polygon': [[2, 2], [753...</td>\n",
       "    </tr>\n",
       "    <tr>\n",
       "      <th>4</th>\n",
       "      <td>1024</td>\n",
       "      <td>2048</td>\n",
       "      <td>{'label': 'pole', 'polygon': [[366, 406], [366...</td>\n",
       "    </tr>\n",
       "    <tr>\n",
       "      <th>...</th>\n",
       "      <td>...</td>\n",
       "      <td>...</td>\n",
       "      <td>...</td>\n",
       "    </tr>\n",
       "    <tr>\n",
       "      <th>62</th>\n",
       "      <td>1024</td>\n",
       "      <td>2048</td>\n",
       "      <td>{'label': 'bicycle', 'polygon': [[945, 396], [...</td>\n",
       "    </tr>\n",
       "    <tr>\n",
       "      <th>63</th>\n",
       "      <td>1024</td>\n",
       "      <td>2048</td>\n",
       "      <td>{'label': 'bicycle', 'polygon': [[1239, 412], ...</td>\n",
       "    </tr>\n",
       "    <tr>\n",
       "      <th>64</th>\n",
       "      <td>1024</td>\n",
       "      <td>2048</td>\n",
       "      <td>{'label': 'rider', 'polygon': [[1280, 383], [1...</td>\n",
       "    </tr>\n",
       "    <tr>\n",
       "      <th>65</th>\n",
       "      <td>1024</td>\n",
       "      <td>2048</td>\n",
       "      <td>{'label': 'ego vehicle', 'polygon': [[271, 102...</td>\n",
       "    </tr>\n",
       "    <tr>\n",
       "      <th>66</th>\n",
       "      <td>1024</td>\n",
       "      <td>2048</td>\n",
       "      <td>{'label': 'out of roi', 'polygon': [[0, 0], [2...</td>\n",
       "    </tr>\n",
       "  </tbody>\n",
       "</table>\n",
       "<p>67 rows × 3 columns</p>\n",
       "</div>"
      ],
      "text/plain": [
       "    imgHeight  imgWidth                                            objects\n",
       "0        1024      2048  {'label': 'flat', 'polygon': [[0, 513], [2047,...\n",
       "1        1024      2048  {'label': 'sidewalk', 'polygon': [[2048, 369],...\n",
       "2        1024      2048  {'label': 'terrain', 'polygon': [[114, 504], [...\n",
       "3        1024      2048  {'label': 'building', 'polygon': [[2, 2], [753...\n",
       "4        1024      2048  {'label': 'pole', 'polygon': [[366, 406], [366...\n",
       "..        ...       ...                                                ...\n",
       "62       1024      2048  {'label': 'bicycle', 'polygon': [[945, 396], [...\n",
       "63       1024      2048  {'label': 'bicycle', 'polygon': [[1239, 412], ...\n",
       "64       1024      2048  {'label': 'rider', 'polygon': [[1280, 383], [1...\n",
       "65       1024      2048  {'label': 'ego vehicle', 'polygon': [[271, 102...\n",
       "66       1024      2048  {'label': 'out of roi', 'polygon': [[0, 0], [2...\n",
       "\n",
       "[67 rows x 3 columns]"
      ]
     },
     "execution_count": 91,
     "metadata": {},
     "output_type": "execute_result"
    }
   ],
   "source": [
    "pd.read_json('test.json')"
   ]
  },
  {
   "cell_type": "code",
   "execution_count": null,
   "id": "d25d5ad3",
   "metadata": {},
   "outputs": [],
   "source": []
  },
  {
   "cell_type": "code",
   "execution_count": 329,
   "id": "6ac1ee82",
   "metadata": {},
   "outputs": [],
   "source": [
    "# Boucle pour transformer les fichiers en 8 groupes\n",
    "for i in range(len(mask_list)):\n",
    "    num_ind = pd.read_json(mask_list[i])['objects'].shape[0]\n",
    "    df = pd.read_json(mask_list[i])\n",
    "    for j in range(num_ind):\n",
    "        old_lab = df.at[j, 'objects']['label']\n",
    "        # Reduce number of category\n",
    "        df.at[j, 'objects']['label'] = dict_label[old_lab]\n",
    "    df.to_json(mask_list[i][:-5] + '_octogroups.json', orient='columns')\n",
    "    del df"
   ]
  },
  {
   "cell_type": "markdown",
   "id": "6771ad0c",
   "metadata": {},
   "source": [
    "# Création d’un calque"
   ]
  },
  {
   "cell_type": "code",
   "execution_count": 2,
   "id": "da70aa34",
   "metadata": {},
   "outputs": [],
   "source": [
    "layer_list = glob.glob('../data/finetuning/gtFine/**/*octogroups.json', recursive=True)"
   ]
  },
  {
   "cell_type": "code",
   "execution_count": 3,
   "id": "f8a54aea",
   "metadata": {},
   "outputs": [
    {
     "data": {
      "text/plain": [
       "'../data/finetuning/gtFine/val/munster/munster_000125_000019_gtFine_polygons_octogroups.json'"
      ]
     },
     "execution_count": 3,
     "metadata": {},
     "output_type": "execute_result"
    }
   ],
   "source": [
    "layer_list[1]"
   ]
  },
  {
   "cell_type": "code",
   "execution_count": 4,
   "id": "886e7117",
   "metadata": {},
   "outputs": [],
   "source": [
    "dfl = pd.read_json(layer_list[1])\n"
   ]
  },
  {
   "cell_type": "code",
   "execution_count": 8,
   "id": "aa7dd270",
   "metadata": {},
   "outputs": [
    {
     "data": {
      "text/html": [
       "<div>\n",
       "<style scoped>\n",
       "    .dataframe tbody tr th:only-of-type {\n",
       "        vertical-align: middle;\n",
       "    }\n",
       "\n",
       "    .dataframe tbody tr th {\n",
       "        vertical-align: top;\n",
       "    }\n",
       "\n",
       "    .dataframe thead th {\n",
       "        text-align: right;\n",
       "    }\n",
       "</style>\n",
       "<table border=\"1\" class=\"dataframe\">\n",
       "  <thead>\n",
       "    <tr style=\"text-align: right;\">\n",
       "      <th></th>\n",
       "      <th>imgHeight</th>\n",
       "      <th>imgWidth</th>\n",
       "      <th>objects</th>\n",
       "    </tr>\n",
       "  </thead>\n",
       "  <tbody>\n",
       "    <tr>\n",
       "      <th>0</th>\n",
       "      <td>1024</td>\n",
       "      <td>2048</td>\n",
       "      <td>{'label': 'sky', 'polygon': [[645, 1], [1287, ...</td>\n",
       "    </tr>\n",
       "    <tr>\n",
       "      <th>1</th>\n",
       "      <td>1024</td>\n",
       "      <td>2048</td>\n",
       "      <td>{'label': 'flat', 'polygon': [[2, 731], [972, ...</td>\n",
       "    </tr>\n",
       "    <tr>\n",
       "      <th>2</th>\n",
       "      <td>1024</td>\n",
       "      <td>2048</td>\n",
       "      <td>{'label': 'nature', 'polygon': [[1139, 441], [...</td>\n",
       "    </tr>\n",
       "    <tr>\n",
       "      <th>3</th>\n",
       "      <td>1024</td>\n",
       "      <td>2048</td>\n",
       "      <td>{'label': 'construction', 'polygon': [[0, 1], ...</td>\n",
       "    </tr>\n",
       "    <tr>\n",
       "      <th>4</th>\n",
       "      <td>1024</td>\n",
       "      <td>2048</td>\n",
       "      <td>{'label': 'construction', 'polygon': [[1324, 1...</td>\n",
       "    </tr>\n",
       "    <tr>\n",
       "      <th>...</th>\n",
       "      <td>...</td>\n",
       "      <td>...</td>\n",
       "      <td>...</td>\n",
       "    </tr>\n",
       "    <tr>\n",
       "      <th>84</th>\n",
       "      <td>1024</td>\n",
       "      <td>2048</td>\n",
       "      <td>{'label': 'vehicle', 'polygon': [[1369, 469], ...</td>\n",
       "    </tr>\n",
       "    <tr>\n",
       "      <th>85</th>\n",
       "      <td>1024</td>\n",
       "      <td>2048</td>\n",
       "      <td>{'label': 'construction', 'polygon': [[1531, 4...</td>\n",
       "    </tr>\n",
       "    <tr>\n",
       "      <th>86</th>\n",
       "      <td>1024</td>\n",
       "      <td>2048</td>\n",
       "      <td>{'label': 'object', 'polygon': [[1441, 563], [...</td>\n",
       "    </tr>\n",
       "    <tr>\n",
       "      <th>87</th>\n",
       "      <td>1024</td>\n",
       "      <td>2048</td>\n",
       "      <td>{'label': 'void', 'polygon': [[271, 1023], [38...</td>\n",
       "    </tr>\n",
       "    <tr>\n",
       "      <th>88</th>\n",
       "      <td>1024</td>\n",
       "      <td>2048</td>\n",
       "      <td>{'label': 'void', 'polygon': [[0, 0], [2048, 0...</td>\n",
       "    </tr>\n",
       "  </tbody>\n",
       "</table>\n",
       "<p>89 rows × 3 columns</p>\n",
       "</div>"
      ],
      "text/plain": [
       "    imgHeight  imgWidth                                            objects\n",
       "0        1024      2048  {'label': 'sky', 'polygon': [[645, 1], [1287, ...\n",
       "1        1024      2048  {'label': 'flat', 'polygon': [[2, 731], [972, ...\n",
       "2        1024      2048  {'label': 'nature', 'polygon': [[1139, 441], [...\n",
       "3        1024      2048  {'label': 'construction', 'polygon': [[0, 1], ...\n",
       "4        1024      2048  {'label': 'construction', 'polygon': [[1324, 1...\n",
       "..        ...       ...                                                ...\n",
       "84       1024      2048  {'label': 'vehicle', 'polygon': [[1369, 469], ...\n",
       "85       1024      2048  {'label': 'construction', 'polygon': [[1531, 4...\n",
       "86       1024      2048  {'label': 'object', 'polygon': [[1441, 563], [...\n",
       "87       1024      2048  {'label': 'void', 'polygon': [[271, 1023], [38...\n",
       "88       1024      2048  {'label': 'void', 'polygon': [[0, 0], [2048, 0...\n",
       "\n",
       "[89 rows x 3 columns]"
      ]
     },
     "execution_count": 8,
     "metadata": {},
     "output_type": "execute_result"
    }
   ],
   "source": [
    "dfl"
   ]
  },
  {
   "cell_type": "code",
   "execution_count": 6,
   "id": "af9235b4",
   "metadata": {},
   "outputs": [
    {
     "data": {
      "text/plain": [
       "{'label': 'flat',\n",
       " 'polygon': [[2, 731],\n",
       "  [972, 473],\n",
       "  [1237, 475],\n",
       "  [2047, 829],\n",
       "  [2047, 1023],\n",
       "  [1305, 1024],\n",
       "  [662, 1023],\n",
       "  [0, 1023]]}"
      ]
     },
     "execution_count": 6,
     "metadata": {},
     "output_type": "execute_result"
    }
   ],
   "source": [
    "dfl.at[1, 'objects']"
   ]
  },
  {
   "cell_type": "code",
   "execution_count": 13,
   "id": "f26ad68a",
   "metadata": {},
   "outputs": [],
   "source": [
    "h = dfl.at[0, 'imgHeight']\n",
    "w = dfl.at[0, 'imgWidth']"
   ]
  },
  {
   "cell_type": "code",
   "execution_count": 45,
   "id": "d4b31a01",
   "metadata": {},
   "outputs": [
    {
     "data": {
      "text/plain": [
       "array([[0., 0., 0., ..., 0., 0., 0.],\n",
       "       [0., 0., 0., ..., 0., 0., 0.],\n",
       "       [0., 0., 0., ..., 0., 0., 0.],\n",
       "       ...,\n",
       "       [0., 0., 0., ..., 0., 0., 0.],\n",
       "       [0., 0., 0., ..., 0., 0., 0.],\n",
       "       [0., 0., 0., ..., 0., 0., 0.]])"
      ]
     },
     "execution_count": 45,
     "metadata": {},
     "output_type": "execute_result"
    }
   ],
   "source": [
    "mask"
   ]
  },
  {
   "cell_type": "code",
   "execution_count": 248,
   "id": "38cc37be",
   "metadata": {},
   "outputs": [],
   "source": [
    "mask = np.zeros(np.hstack((h, w)), dtype='uint8')"
   ]
  },
  {
   "cell_type": "code",
   "execution_count": 253,
   "id": "0f020b2a",
   "metadata": {},
   "outputs": [],
   "source": [
    "poly = np.array([dfl.at[1, 'objects']['polygon']])\n",
    "poly_two = np.array([dfl.at[2, 'objects']['polygon']])"
   ]
  },
  {
   "cell_type": "code",
   "execution_count": 254,
   "id": "e8f2ead2",
   "metadata": {},
   "outputs": [
    {
     "data": {
      "text/plain": [
       "array([[[1139,  441],\n",
       "        [1145,  362],\n",
       "        [1349,  395],\n",
       "        [1357,  497],\n",
       "        [1171,  478],\n",
       "        [1143,  462]]])"
      ]
     },
     "execution_count": 254,
     "metadata": {},
     "output_type": "execute_result"
    }
   ],
   "source": [
    "poly_two"
   ]
  },
  {
   "cell_type": "code",
   "execution_count": 261,
   "id": "0546cf9e",
   "metadata": {},
   "outputs": [],
   "source": [
    "img_mask = cv2.fillPoly(mask, poly, 255)\n",
    "img_mask_two = cv2.fillPoly(mask, poly_two, 200)"
   ]
  },
  {
   "cell_type": "code",
   "execution_count": 262,
   "id": "aefef9c7",
   "metadata": {},
   "outputs": [
    {
     "data": {
      "text/plain": [
       "array([[  0,   0,   0, ...,   0,   0,   0],\n",
       "       [  0,   0,   0, ...,   0,   0,   0],\n",
       "       [  0,   0,   0, ...,   0,   0,   0],\n",
       "       ...,\n",
       "       [255, 255, 255, ..., 255, 255, 255],\n",
       "       [255, 255, 255, ..., 255, 255, 255],\n",
       "       [255, 255, 255, ..., 255, 255, 255]], dtype=uint8)"
      ]
     },
     "execution_count": 262,
     "metadata": {},
     "output_type": "execute_result"
    }
   ],
   "source": [
    "img_mask_two"
   ]
  },
  {
   "cell_type": "code",
   "execution_count": 133,
   "id": "b293211d",
   "metadata": {},
   "outputs": [
    {
     "data": {
      "text/plain": [
       "'../data/finetuning/gtFine/val/munster/munster_000125_000019_gtFine_polygons_octogroups.json'"
      ]
     },
     "execution_count": 133,
     "metadata": {},
     "output_type": "execute_result"
    }
   ],
   "source": [
    "layer_list[1]"
   ]
  },
  {
   "cell_type": "code",
   "execution_count": 134,
   "id": "ed935bae",
   "metadata": {},
   "outputs": [
    {
     "data": {
      "text/plain": [
       "'val'"
      ]
     },
     "execution_count": 134,
     "metadata": {},
     "output_type": "execute_result"
    }
   ],
   "source": [
    "layer_list[1].split('/')[-3]"
   ]
  },
  {
   "cell_type": "code",
   "execution_count": 135,
   "id": "04e39914",
   "metadata": {},
   "outputs": [
    {
     "data": {
      "text/plain": [
       "'../data/coarse_tuning/leftImg8bit/val/munster/munster_000125_000019_leftImg8bit.png'"
      ]
     },
     "execution_count": 135,
     "metadata": {},
     "output_type": "execute_result"
    }
   ],
   "source": [
    "# Transformation du nom de masque en nom d’image correspondante.\n",
    "layer_list[1][:7] + '/coarse_tuning/leftImg8bit/' + layer_list[1].split('/')[-3] + '/' + layer_list[1].split('/')[-2] + '/' + layer_list[1].split('/')[-1][:-31] + 'leftImg8bit.png'"
   ]
  },
  {
   "cell_type": "code",
   "execution_count": 136,
   "id": "1200bffb",
   "metadata": {},
   "outputs": [],
   "source": [
    "img_name = layer_list[1][:7] + '/coarse_tuning/leftImg8bit/' + layer_list[1].split('/')[-3] + '/' + layer_list[1].split('/')[-2] + '/' + layer_list[1].split('/')[-1][:-31] + 'leftImg8bit.png'"
   ]
  },
  {
   "cell_type": "code",
   "execution_count": 137,
   "id": "253a9292",
   "metadata": {},
   "outputs": [],
   "source": [
    "image = cv2.imread(img_name)"
   ]
  },
  {
   "cell_type": "code",
   "execution_count": 138,
   "id": "9c428cb8",
   "metadata": {},
   "outputs": [],
   "source": [
    "def blur(img):\n",
    "    gray = cv2.cvtColor(img, cv2.COLOR_RGB2GRAY)\n",
    "    kernel = 5\n",
    "    blur = cv2.GaussianBlur(gray,(kernel, kernel),0)\n",
    "    return blur"
   ]
  },
  {
   "cell_type": "code",
   "execution_count": 139,
   "id": "3f6cb2ee",
   "metadata": {},
   "outputs": [],
   "source": [
    "masked_image = cv2.bitwise_and(blur(image), img_mask)"
   ]
  },
  {
   "cell_type": "code",
   "execution_count": 140,
   "id": "0d7faab6",
   "metadata": {},
   "outputs": [
    {
     "data": {
      "text/plain": [
       "<matplotlib.image.AxesImage at 0x7ff4f8900ac0>"
      ]
     },
     "execution_count": 140,
     "metadata": {},
     "output_type": "execute_result"
    },
    {
     "data": {
      "image/png": "[encoded data removed]",
      "text/plain": [
       "<Figure size 432x288 with 1 Axes>"
      ]
     },
     "metadata": {
      "needs_background": "light"
     },
     "output_type": "display_data"
    }
   ],
   "source": [
    "plt.imshow(masked_image)"
   ]
  },
  {
   "cell_type": "code",
   "execution_count": 131,
   "id": "29458865",
   "metadata": {},
   "outputs": [],
   "source": [
    "# Function of polygonal display"
   ]
  },
  {
   "cell_type": "code",
   "execution_count": 168,
   "id": "08b0befc",
   "metadata": {},
   "outputs": [
    {
     "data": {
      "text/plain": [
       "89"
      ]
     },
     "execution_count": 168,
     "metadata": {},
     "output_type": "execute_result"
    }
   ],
   "source": [
    "len(dfl)\n"
   ]
  },
  {
   "cell_type": "code",
   "execution_count": 236,
   "id": "4028ef25",
   "metadata": {},
   "outputs": [],
   "source": [
    "def fpd(pic_num, poly_num):\n",
    "    \"\"\"Prend le numero de l’image (liste triée), et le numéro du polygone de l’image\"\"\"\n",
    "    layer_list = sorted(glob.glob('../data/finetuning/gtFine/**/*octogroups.json', recursive=True))\n",
    "    dfl = pd.read_json(layer_list[pic_num])\n",
    "    h = dfl.at[0, 'imgHeight']\n",
    "    w = dfl.at[0, 'imgWidth']\n",
    "    mask = np.zeros(np.hstack((h, w)), dtype='uint8')\n",
    "    try:\n",
    "        poly = np.array([dfl.at[poly_num, 'objects']['polygon']])\n",
    "    except KeyError as e:\n",
    "        print('Erreur', e, 'La valeur maximum pour poly_num est', len(dfl)-1)\n",
    "        return\n",
    "    img_mask = cv2.fillPoly(mask, poly, 255)\n",
    "    img_name = layer_list[pic_num][:7] + '/coarse_tuning/leftImg8bit/' \\\n",
    "                    + layer_list[pic_num].split('/')[-3] + '/' \\\n",
    "                    + layer_list[pic_num].split('/')[-2] + '/' \\\n",
    "                    + layer_list[pic_num].split('/')[-1][:-31] + 'leftImg8bit.png'\n",
    "    image = cv2.imread(img_name)\n",
    "    masked_image = cv2.bitwise_and(blur(image), img_mask)\n",
    "    print('Label', dfl.at[poly_num, 'objects']['label'])\n",
    "    plt.imshow(masked_image)"
   ]
  },
  {
   "cell_type": "code",
   "execution_count": 242,
   "id": "07f887c9",
   "metadata": {},
   "outputs": [
    {
     "name": "stdout",
     "output_type": "stream",
     "text": [
      "Label construction\n"
     ]
    },
    {
     "data": {
      "image/png": "[encoded data removed]",
      "text/plain": [
       "<Figure size 432x288 with 1 Axes>"
      ]
     },
     "metadata": {
      "needs_background": "light"
     },
     "output_type": "display_data"
    }
   ],
   "source": [
    "fpd(4999,30)"
   ]
  },
  {
   "cell_type": "markdown",
   "id": "ad9bd8bc",
   "metadata": {},
   "source": [
    "## Intermède\n",
    "\n",
    "C’est donc possible d’observer que nos images contiennent bien seulement 8 catégories"
   ]
  },
  {
   "cell_type": "code",
   "execution_count": 360,
   "id": "7ec7a93f",
   "metadata": {},
   "outputs": [],
   "source": [
    "def fpd_hegemonia(pic_num):  #AUTOMATION , poly_num):\n",
    "    \"\"\"Prend le numero de l’image (liste triée), et le numéro du polygone de l’image\"\"\"\n",
    "    layer_list = sorted(glob.glob('../data/finetuning/gtFine/**/*octogroups.json', recursive=True))\n",
    "    dfl = pd.read_json(layer_list[pic_num])\n",
    "    h = dfl.at[0, 'imgHeight']\n",
    "    w = dfl.at[0, 'imgWidth']\n",
    "    dict_label_clr = {'construction': 140, \n",
    "                          'flat': 80, \n",
    "                          'human': 120, \n",
    "                          'nature': 40, \n",
    "                          'object': 20, \n",
    "                          'sky': 60, \n",
    "                          'vehicle': 100, \n",
    "                          'void': 0}\n",
    "\n",
    "    img_mask = np.zeros(np.hstack((h, w)), dtype='uint8')\n",
    "    for poly_num in range(len(dfl)):\n",
    "        label = dfl.at[poly_num, 'objects']['label']\n",
    "        poly = np.array([dfl.at[poly_num, 'objects']['polygon']])\n",
    "        img_mask = cv2.fillPoly(img_mask, poly, dict_label_clr[label])\n",
    "    img_name = layer_list[pic_num][:7] + '/coarse_tuning/leftImg8bit/' \\\n",
    "                    + layer_list[pic_num].split('/')[-3] + '/' \\\n",
    "                    + layer_list[pic_num].split('/')[-2] + '/' \\\n",
    "                    + layer_list[pic_num].split('/')[-1][:-31] + 'leftImg8bit.png'\n",
    "    image = cv2.imread(img_name)\n",
    "    masked_image = cv2.bitwise_and(blur(image), img_mask)\n",
    "#print('Label', dfl.at[poly_num, 'objects']['label'])\n",
    "    #plt.imshow(masked_image)\n",
    "    #plt.imshow(img_mask)\n",
    "    #plt.imshow(image)\n",
    "    return image, img_mask, masked_image"
   ]
  },
  {
   "cell_type": "code",
   "execution_count": 365,
   "id": "341b4445",
   "metadata": {},
   "outputs": [],
   "source": [
    "image, img_mask, masked_image = fpd_hegemonia(2100)"
   ]
  },
  {
   "cell_type": "code",
   "execution_count": 366,
   "id": "8b50da68",
   "metadata": {},
   "outputs": [
    {
     "data": {
      "text/plain": [
       "<matplotlib.image.AxesImage at 0x7ff4d7e25a90>"
      ]
     },
     "execution_count": 366,
     "metadata": {},
     "output_type": "execute_result"
    },
    {
     "data": {
      "image/png": "[encoded data removed]",
      "text/plain": [
       "<Figure size 432x288 with 1 Axes>"
      ]
     },
     "metadata": {
      "needs_background": "light"
     },
     "output_type": "display_data"
    }
   ],
   "source": [
    "plt.imshow(image)"
   ]
  },
  {
   "cell_type": "code",
   "execution_count": 367,
   "id": "a93c2fb6",
   "metadata": {},
   "outputs": [
    {
     "data": {
      "text/plain": [
       "<matplotlib.image.AxesImage at 0x7ff4e0221640>"
      ]
     },
     "execution_count": 367,
     "metadata": {},
     "output_type": "execute_result"
    },
    {
     "data": {
      "image/png": "[encoded data removed]",
      "text/plain": [
       "<Figure size 432x288 with 1 Axes>"
      ]
     },
     "metadata": {
      "needs_background": "light"
     },
     "output_type": "display_data"
    }
   ],
   "source": [
    "plt.imshow(masked_image)"
   ]
  },
  {
   "cell_type": "code",
   "execution_count": 368,
   "id": "420ee024",
   "metadata": {},
   "outputs": [
    {
     "data": {
      "text/plain": [
       "<matplotlib.image.AxesImage at 0x7ff4d7d4fd90>"
      ]
     },
     "execution_count": 368,
     "metadata": {},
     "output_type": "execute_result"
    },
    {
     "data": {
      "image/png": "[encoded data removed]",
      "text/plain": [
       "<Figure size 432x288 with 1 Axes>"
      ]
     },
     "metadata": {
      "needs_background": "light"
     },
     "output_type": "display_data"
    }
   ],
   "source": [
    "plt.imshow(img_mask)"
   ]
  },
  {
   "cell_type": "markdown",
   "id": "78141de8",
   "metadata": {},
   "source": [
    "Et de les écrire au format portable network graphics ou png sans peiner."
   ]
  },
  {
   "cell_type": "code",
   "execution_count": 320,
   "id": "450badd0",
   "metadata": {},
   "outputs": [
    {
     "data": {
      "text/plain": [
       "True"
      ]
     },
     "execution_count": 320,
     "metadata": {},
     "output_type": "execute_result"
    }
   ],
   "source": [
    "cv2.imwrite('calque_test.png', img_mask)\n"
   ]
  },
  {
   "cell_type": "markdown",
   "id": "4e65c6c0",
   "metadata": {},
   "source": [
    "## Croître et se multiplier"
   ]
  },
  {
   "cell_type": "markdown",
   "id": "82dbcbdd",
   "metadata": {},
   "source": [
    "Nous fusionnons les parties d’intérets contenues dans ce qui précède de notre notebook pour industrialiser le processus de découpage des images, ou création de masque de ségmentation."
   ]
  },
  {
   "cell_type": "code",
   "execution_count": 315,
   "id": "544bd2da",
   "metadata": {},
   "outputs": [
    {
     "data": {
      "text/plain": [
       "'../data/finetuning/gtFine/test/berlin/berlin_000001_000019_gtFine_polygons_octogroups.png'"
      ]
     },
     "execution_count": 315,
     "metadata": {},
     "output_type": "execute_result"
    }
   ],
   "source": [
    "layer_list[1][:-4] + 'png'"
   ]
  },
  {
   "cell_type": "code",
   "execution_count": 372,
   "id": "a989954f",
   "metadata": {},
   "outputs": [],
   "source": [
    "def guineapig():\n",
    "    \"\"\"Crée tous les masques, en les laissant inscrit sur le disque\"\"\"\n",
    "    layer_list = sorted(glob.glob('../data/finetuning/gtFine/**/*octogroups.json', recursive=True))\n",
    "    for pic_num in range(len(layer_list)):\n",
    "        dfl = pd.read_json(layer_list[pic_num])\n",
    "        h = dfl.at[0, 'imgHeight']\n",
    "        w = dfl.at[0, 'imgWidth']\n",
    "        dict_label_clr = {'construction': 60, \n",
    "                          'flat': 30, \n",
    "                          'human': 100, \n",
    "                          'nature': 80, \n",
    "                          'object': 20, \n",
    "                          'sky': 40, \n",
    "                          'vehicle': 120, \n",
    "                          'void': 10}\n",
    "\n",
    "        img_mask = np.zeros(np.hstack((h, w)), dtype='uint8')\n",
    "        for poly_num in range(len(dfl)):\n",
    "            label = dfl.at[poly_num, 'objects']['label']\n",
    "            poly = np.array([dfl.at[poly_num, 'objects']['polygon']])\n",
    "            img_mask = cv2.fillPoly(img_mask, poly, dict_label_clr[label])\n",
    "        img_name = layer_list[pic_num][:7] + '/coarse_tuning/leftImg8bit/' \\\n",
    "                        + layer_list[pic_num].split('/')[-3] + '/' \\\n",
    "                        + layer_list[pic_num].split('/')[-2] + '/' \\\n",
    "                        + layer_list[pic_num].split('/')[-1][:-31] + 'leftImg8bit.png'\n",
    "        image = cv2.imread(img_name)\n",
    "        masked_image = cv2.bitwise_and(blur(image), img_mask)\n",
    "        img_mask_name = layer_list[pic_num][:-4] + 'png'\n",
    "        cv2.imwrite(img_mask_name, img_mask)\n",
    "    return "
   ]
  },
  {
   "cell_type": "code",
   "execution_count": 373,
   "id": "ab9d0ec9",
   "metadata": {},
   "outputs": [],
   "source": [
    "guineapig()"
   ]
  },
  {
   "cell_type": "code",
   "execution_count": 392,
   "id": "639c9f04",
   "metadata": {},
   "outputs": [
    {
     "data": {
      "text/plain": [
       "2975"
      ]
     },
     "execution_count": 392,
     "metadata": {},
     "output_type": "execute_result"
    }
   ],
   "source": [
    "len(sorted(glob.glob('../data/finetuning/gtFine/train/**/*polygons_octogroups.png')))"
   ]
  },
  {
   "cell_type": "code",
   "execution_count": 393,
   "id": "168bd1f4",
   "metadata": {},
   "outputs": [
    {
     "data": {
      "text/plain": [
       "2975"
      ]
     },
     "execution_count": 393,
     "metadata": {},
     "output_type": "execute_result"
    }
   ],
   "source": [
    "len(sorted(glob.glob('../data/coarse_tuning/leftImg8bit/train/**/*.png')))"
   ]
  },
  {
   "cell_type": "markdown",
   "id": "b9b04507",
   "metadata": {},
   "source": [
    "## Epilogue \n",
    "\n",
    "Nous voudrions connaîtrons le nombre maximum de classes dans une seule image."
   ]
  },
  {
   "cell_type": "code",
   "execution_count": 397,
   "id": "030fc18d",
   "metadata": {},
   "outputs": [],
   "source": [
    "def epitheme():\n",
    "    \"\"\"Compte le nombre maximum de catégorie par image\"\"\"\n",
    "    layer_list = sorted(glob.glob('../data/finetuning/gtFine/**/*octogroups.json', recursive=True))\n",
    "    n = 0\n",
    "    for pic_num in range(len(layer_list)):\n",
    "        nb_pic = 0\n",
    "        dfl = pd.read_json(layer_list[pic_num])\n",
    "        img_mask = np.zeros(np.hstack((h, w)), dtype='uint8')\n",
    "        labels = []\n",
    "        for poly_num in range(len(dfl)):\n",
    "            label = dfl.at[poly_num, 'objects']['label']\n",
    "            if label in labels:\n",
    "                pass\n",
    "            else:\n",
    "                labels.append(label)\n",
    "        nb_pic = len(labels)\n",
    "        if n < nb_pic: \n",
    "            n = nb_pic\n",
    "    return n"
   ]
  },
  {
   "cell_type": "code",
   "execution_count": 398,
   "id": "f0baee56",
   "metadata": {},
   "outputs": [
    {
     "data": {
      "text/plain": [
       "8"
      ]
     },
     "execution_count": 398,
     "metadata": {},
     "output_type": "execute_result"
    }
   ],
   "source": [
    "epitheme()"
   ]
  },
  {
   "cell_type": "code",
   "execution_count": null,
   "id": "85951e6a",
   "metadata": {},
   "outputs": [],
   "source": []
  }
 ],
 "metadata": {
  "kernelspec": {
   "display_name": "Python 3 (ipykernel)",
   "language": "python",
   "name": "python3"
  },
  "language_info": {
   "codemirror_mode": {
    "name": "ipython",
    "version": 3
   },
   "file_extension": ".py",
   "mimetype": "text/x-python",
   "name": "python",
   "nbconvert_exporter": "python",
   "pygments_lexer": "ipython3",
   "version": "3.9.7"
  }
 },
 "nbformat": 4,
 "nbformat_minor": 5
}
