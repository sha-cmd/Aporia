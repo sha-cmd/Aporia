{
 "cells": [
  {
   "cell_type": "code",
   "execution_count": 7,
   "id": "d9516c4a",
   "metadata": {},
   "outputs": [],
   "source": [
    "import os\n",
    "import pandas as pd\n",
    "from os import path"
   ]
  },
  {
   "cell_type": "code",
   "execution_count": 23,
   "id": "22a93375",
   "metadata": {},
   "outputs": [],
   "source": [
    "def claw_crane(rel_path):\n",
    "    l1 = os.listdir(rel_path)\n",
    "    folders = [x for x in l1 if os.path.isdir(path.join(rel_path, x))]\n",
    "    files = [x for x in l1 if os.path.isfile(path.join(rel_path, x))]\n",
    "    return len(folders), len(files), folders, files, "
   ]
  },
  {
   "cell_type": "code",
   "execution_count": 26,
   "id": "dcf2ba5b",
   "metadata": {},
   "outputs": [],
   "source": [
    "l1 = 'data'"
   ]
  },
  {
   "cell_type": "code",
   "execution_count": 27,
   "id": "cf1239c5",
   "metadata": {},
   "outputs": [
    {
     "data": {
      "text/plain": [
       "(2, 0, ['coarse_tuning', 'finetuning'], [])"
      ]
     },
     "execution_count": 27,
     "metadata": {},
     "output_type": "execute_result"
    }
   ],
   "source": [
    "claw_crane('../' + l1)"
   ]
  },
  {
   "cell_type": "code",
   "execution_count": null,
   "id": "cebb81ab",
   "metadata": {},
   "outputs": [],
   "source": []
  }
 ],
 "metadata": {
  "kernelspec": {
   "display_name": "Python 3 (ipykernel)",
   "language": "python",
   "name": "python3"
  },
  "language_info": {
   "codemirror_mode": {
    "name": "ipython",
    "version": 3
   },
   "file_extension": ".py",
   "mimetype": "text/x-python",
   "name": "python",
   "nbconvert_exporter": "python",
   "pygments_lexer": "ipython3",
   "version": "3.9.7"
  }
 },
 "nbformat": 4,
 "nbformat_minor": 5
}
