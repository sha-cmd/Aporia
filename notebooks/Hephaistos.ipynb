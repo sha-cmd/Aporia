{
 "cells": [
  {
   "cell_type": "code",
   "execution_count": 1,
   "id": "06a4ab9a",
   "metadata": {},
   "outputs": [],
   "source": [
    "import matplotlib.pyplot as plt\n",
    "import tensorflow as tf\n",
    "\n",
    "from glob import glob\n",
    "from scipy.io import loadmat\n",
    "from tensorflow import keras\n",
    "from tensorflow.keras import layers"
   ]
  },
  {
   "cell_type": "code",
   "execution_count": 96,
   "id": "752d1af8",
   "metadata": {},
   "outputs": [],
   "source": [
    "IMAGE_SIZE = 64\n",
    "BATCH_SIZE = 4\n",
    "NUM_CLASSES = 32\n",
    "NUM_TRAIN_IMAGES = 1000\n",
    "NUM_VAL_IMAGES = 50"
   ]
  },
  {
   "cell_type": "code",
   "execution_count": 76,
   "id": "363baa6f",
   "metadata": {},
   "outputs": [],
   "source": [
    "train_images = sorted(glob('../data/coarse_tuning/leftImg8bit/train/**/*.png',\n",
    "                           recursive=True))[:NUM_TRAIN_IMAGES]\n",
    "train_masks = sorted(glob('../data/finetuning/gtFine/train/**/*octogroups.png',\n",
    "                          recursive=True))[:NUM_TRAIN_IMAGES]\n",
    "val_images = sorted(glob('../data/coarse_tuning/leftImg8bit/val/**/*.png',\n",
    "                         recursive=True))[:NUM_VAL_IMAGES]\n",
    "val_masks = sorted(glob('../data/finetuning/gtFine/val/**/*octogroups.png',\n",
    "                        recursive=True))[:NUM_VAL_IMAGES]"
   ]
  },
  {
   "cell_type": "code",
   "execution_count": 77,
   "id": "e0242977",
   "metadata": {},
   "outputs": [
    {
     "name": "stdout",
     "output_type": "stream",
     "text": [
      "Found 1000 training images\n",
      "Found 1000 training masks\n",
      "Found 50 validation images\n",
      "Found 50 validation masks\n"
     ]
    }
   ],
   "source": [
    "print('Found', len(train_images), 'training images')\n",
    "print('Found', len(train_masks), 'training masks')\n",
    "print('Found', len(val_images), 'validation images')\n",
    "print('Found', len(val_masks), 'validation masks')"
   ]
  },
  {
   "cell_type": "code",
   "execution_count": 78,
   "id": "f04132da",
   "metadata": {},
   "outputs": [],
   "source": [
    "def read_image(image_path, mask=False):\n",
    "    image = tf.io.read_file(image_path)\n",
    "    if mask:\n",
    "        image = tf.image.decode_png(image, channels=1)\n",
    "        image.set_shape([None, None, 1])\n",
    "        image = tf.image.resize(images=image, size=[IMAGE_SIZE, IMAGE_SIZE])\n",
    "    else:\n",
    "        image = tf.image.decode_png(image, channels=3)\n",
    "        image.set_shape([None, None, 3])\n",
    "        image = tf.image.resize(images=image, size=[IMAGE_SIZE, IMAGE_SIZE])\n",
    "        image = image / 127.5 - 1\n",
    "    return image"
   ]
  },
  {
   "cell_type": "code",
   "execution_count": 79,
   "id": "0f5fa982",
   "metadata": {},
   "outputs": [],
   "source": [
    "def load_data(image_list, mask_list):\n",
    "    image = read_image(image_list)\n",
    "    mask = read_image(mask_list, mask=True)\n",
    "    return image, mask"
   ]
  },
  {
   "cell_type": "code",
   "execution_count": 80,
   "id": "3fd3ea39",
   "metadata": {},
   "outputs": [],
   "source": [
    "def data_generator(image_list, mask_list):\n",
    "    dataset = tf.data.Dataset.from_tensor_slices((image_list, mask_list))\n",
    "    dataset = dataset.map(load_data, num_parallel_calls=tf.data.AUTOTUNE)\n",
    "    dataset = dataset.batch(BATCH_SIZE, drop_remainder=True)\n",
    "    return dataset"
   ]
  },
  {
   "cell_type": "code",
   "execution_count": 81,
   "id": "188653f9",
   "metadata": {},
   "outputs": [],
   "source": [
    "train_dataset = data_generator(train_images, train_masks)\n",
    "val_dataset = data_generator(val_images, val_masks)"
   ]
  },
  {
   "cell_type": "code",
   "execution_count": 82,
   "id": "8ecf0667",
   "metadata": {},
   "outputs": [
    {
     "name": "stdout",
     "output_type": "stream",
     "text": [
      "Train Dataset: <BatchDataset shapes: ((4, 64, 64, 3), (4, 64, 64, 1)), types: (tf.float32, tf.float32)>\n",
      "Val Dataset: <BatchDataset shapes: ((4, 64, 64, 3), (4, 64, 64, 1)), types: (tf.float32, tf.float32)>\n"
     ]
    }
   ],
   "source": [
    "print(\"Train Dataset:\", train_dataset)\n",
    "print(\"Val Dataset:\", val_dataset)"
   ]
  },
  {
   "cell_type": "code",
   "execution_count": 83,
   "id": "254b6435",
   "metadata": {},
   "outputs": [],
   "source": [
    "def convolution_block(\n",
    "    block_input,\n",
    "    num_filters=256,\n",
    "    kernel_size=3,\n",
    "    dilation_rate=1,\n",
    "    padding=\"same\",\n",
    "    use_bias=False,\n",
    "):\n",
    "    x = layers.Conv2D(\n",
    "        num_filters,\n",
    "        kernel_size=kernel_size,\n",
    "        dilation_rate=dilation_rate,\n",
    "        padding=padding,\n",
    "        use_bias=use_bias,\n",
    "        kernel_initializer=keras.initializers.HeNormal(),\n",
    "    )(block_input)\n",
    "    x = layers.BatchNormalization()(x)\n",
    "    return tf.nn.relu(x)"
   ]
  },
  {
   "cell_type": "code",
   "execution_count": 84,
   "id": "4cdfdcf0",
   "metadata": {},
   "outputs": [],
   "source": [
    "def DilatedSpatialPyramidPooling(dspp_input):\n",
    "    dims = dspp_input.shape\n",
    "    x = layers.AveragePooling2D(pool_size=(dims[-3], dims[-2]))(dspp_input)\n",
    "    x = convolution_block(x, kernel_size=1, use_bias=True)\n",
    "    out_pool = layers.UpSampling2D(\n",
    "        size=(dims[-3] // x.shape[1], dims[-2] // x.shape[2]), interpolation=\"bilinear\",\n",
    "    )(x)\n",
    "\n",
    "    out_1 = convolution_block(dspp_input, kernel_size=1, dilation_rate=1)\n",
    "    out_6 = convolution_block(dspp_input, kernel_size=3, dilation_rate=6)\n",
    "    out_12 = convolution_block(dspp_input, kernel_size=3, dilation_rate=12)\n",
    "    out_18 = convolution_block(dspp_input, kernel_size=3, dilation_rate=18)\n",
    "\n",
    "    x = layers.Concatenate(axis=-1)([out_pool, out_1, out_6, out_12, out_18])\n",
    "    output = convolution_block(x, kernel_size=1)\n",
    "    return output\n"
   ]
  },
  {
   "cell_type": "code",
   "execution_count": 85,
   "id": "baa6c3ea",
   "metadata": {},
   "outputs": [],
   "source": [
    "def DeeplabV3Plus(image_size, num_classes):\n",
    "    model_input = keras.Input(shape=(image_size, image_size, 3))\n",
    "    resnet50 = keras.applications.ResNet50(\n",
    "        weights=\"imagenet\", include_top=False, input_tensor=model_input\n",
    "    )\n",
    "    x = resnet50.get_layer(\"conv4_block6_2_relu\").output\n",
    "    x = DilatedSpatialPyramidPooling(x)\n",
    "\n",
    "    input_a = layers.UpSampling2D(\n",
    "        size=(image_size // 4 // x.shape[1], image_size // 4 // x.shape[2]),\n",
    "        interpolation=\"bilinear\",\n",
    "    )(x)\n",
    "    input_b = resnet50.get_layer(\"conv2_block3_2_relu\").output\n",
    "    input_b = convolution_block(input_b, num_filters=48, kernel_size=1)\n",
    "\n",
    "    x = layers.Concatenate(axis=-1)([input_a, input_b])\n",
    "    x = convolution_block(x)\n",
    "    x = convolution_block(x)\n",
    "    x = layers.UpSampling2D(\n",
    "        size=(image_size // x.shape[1], image_size // x.shape[2]),\n",
    "        interpolation=\"bilinear\",\n",
    "    )(x)\n",
    "    model_output = layers.Conv2D(num_classes, kernel_size=(1, 1), padding=\"same\")(x)\n",
    "    return keras.Model(inputs=model_input, outputs=model_output)"
   ]
  },
  {
   "cell_type": "code",
   "execution_count": 86,
   "id": "cf3b360e",
   "metadata": {},
   "outputs": [],
   "source": [
    "model = DeeplabV3Plus(image_size=IMAGE_SIZE, num_classes=NUM_CLASSES)\n",
    "#model.summary()"
   ]
  },
  {
   "cell_type": "code",
   "execution_count": 87,
   "id": "250abcc2",
   "metadata": {},
   "outputs": [],
   "source": [
    "loss = keras.losses.SparseCategoricalCrossentropy(from_logits=True)"
   ]
  },
  {
   "cell_type": "code",
   "execution_count": 99,
   "id": "b2e07d9c",
   "metadata": {},
   "outputs": [],
   "source": [
    "model.compile(\n",
    "    optimizer=keras.optimizers.Adam(learning_rate=0.001),\n",
    "    loss=loss,\n",
    "    metrics=[\"accuracy\"],\n",
    "    steps_per_execution=250,\n",
    ")"
   ]
  },
  {
   "cell_type": "code",
   "execution_count": 98,
   "id": "164ab99a",
   "metadata": {},
   "outputs": [
    {
     "name": "stdout",
     "output_type": "stream",
     "text": [
      "Epoch 1/2\n",
      "250/250 [==============================] - 20s 82ms/step - loss: nan - accuracy: 1.4917e-04 - val_loss: nan - val_accuracy: 0.0000e+00\n",
      "Epoch 2/2\n",
      "250/250 [==============================] - 13s 51ms/step - loss: nan - accuracy: 1.4917e-04 - val_loss: nan - val_accuracy: 0.0000e+00\n"
     ]
    }
   ],
   "source": [
    "history = model.fit(train_dataset, validation_data=val_dataset, epochs=2)"
   ]
  },
  {
   "cell_type": "code",
   "execution_count": null,
   "id": "21beabad",
   "metadata": {},
   "outputs": [],
   "source": []
  }
 ],
 "metadata": {
  "kernelspec": {
   "display_name": "Python 3 (ipykernel)",
   "language": "python",
   "name": "python3"
  },
  "language_info": {
   "codemirror_mode": {
    "name": "ipython",
    "version": 3
   },
   "file_extension": ".py",
   "mimetype": "text/x-python",
   "name": "python",
   "nbconvert_exporter": "python",
   "pygments_lexer": "ipython3",
   "version": "3.9.7"
  }
 },
 "nbformat": 4,
 "nbformat_minor": 5
}
